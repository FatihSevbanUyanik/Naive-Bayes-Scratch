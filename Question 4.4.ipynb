{
 "cells": [
  {
   "cell_type": "markdown",
   "metadata": {},
   "source": [
    "<h1 align=\"center\">Bag-of-Words Representation and Multinomial Naive Bayes Model</h1>\n",
    "<hr>\n",
    "<strong>Question 4.4 (Coding) [20 points]</strong>Train a Naive Bayes classifier using all of the data in the training set\n",
    "( question-4-train-features.csv and question-4-train-labels.csv). Test your classifier on\n",
    "the test data (question-4-test-features.txt and question-4-test-labels.txt), and report\n",
    "the testing accuracy as well as how many wrong predictions were made. In estimating the model parameters\n",
    "use the above MLE estimator. If it arises in your code, de\f",
    "ne 0 * log 0 = 0 (note that a * log 0 is as it is,\n",
    "that is -inf ). In case of ties, you should predict \\neutral\". Report your test set accuracy. What did your\n",
    "classifier end up predicting? Why is using the MLE estimate a bad idea in this situation?"
   ]
  },
  {
   "cell_type": "code",
   "execution_count": 1,
   "metadata": {},
   "outputs": [],
   "source": [
    "# including the required libraries\n",
    "import numpy  as np \n",
    "import pandas as pd\n",
    "import matplotlib.pyplot as plt\n",
    "import os\n",
    "cwd = os.getcwd()"
   ]
  },
  {
   "cell_type": "code",
   "execution_count": 2,
   "metadata": {},
   "outputs": [],
   "source": [
    "# getting the corresponding data sets.\n",
    "dataFrameTestFeatures  = pd.read_csv( os.path.join(cwd, \"data\", \"question-4-test-features.csv\"),  header=None)\n",
    "dataFrameTrainFeatures = pd.read_csv( os.path.join(cwd, \"data\", \"question-4-train-features.csv\"), header=None)\n",
    "dataFrameTrainLabels   = pd.read_csv( os.path.join(cwd, \"data\", \"question-4-train-labels.csv\"),   header=None)\n",
    "dataFrameTestLabels    = pd.read_csv( os.path.join(cwd, \"data\", \"question-4-test-labels.csv\"),    header=None)"
   ]
  },
  {
   "cell_type": "code",
   "execution_count": 3,
   "metadata": {},
   "outputs": [],
   "source": [
    "# stacking the test and train labels\n",
    "npTrain = np.hstack((dataFrameTrainLabels.values, dataFrameTrainFeatures.values))\n",
    "npTest  = np.hstack((dataFrameTestLabels.values,  dataFrameTestFeatures.values))"
   ]
  },
  {
   "cell_type": "code",
   "execution_count": 4,
   "metadata": {},
   "outputs": [
    {
     "name": "stdout",
     "output_type": "stream",
     "text": [
      "*****************************\n",
      "[['neutral' 1 0 ... 0 0 0]\n",
      " ['positive' 1 1 ... 0 0 0]\n",
      " ['neutral' 1 0 ... 0 0 0]\n",
      " ...\n",
      " ['negative' 0 0 ... 0 0 0]\n",
      " ['negative' 0 0 ... 0 0 0]\n",
      " ['positive' 0 0 ... 0 0 0]]\n",
      "*****************************\n",
      "[['negative' 0 0 ... 0 0 0]\n",
      " ['negative' 0 0 ... 0 0 0]\n",
      " ['positive' 0 0 ... 0 0 0]\n",
      " ...\n",
      " ['neutral' 0 0 ... 0 0 0]\n",
      " ['negative' 0 0 ... 0 0 0]\n",
      " ['neutral' 0 0 ... 0 0 0]]\n",
      "*****************************\n"
     ]
    }
   ],
   "source": [
    "# printing the stacked matrices\n",
    "print('*****************************')\n",
    "print(npTrain)\n",
    "print('*****************************')\n",
    "print(npTest)\n",
    "print('*****************************')"
   ]
  },
  {
   "cell_type": "code",
   "execution_count": 5,
   "metadata": {},
   "outputs": [],
   "source": [
    "# getting the corresponding data according to the tweet type.\n",
    "frameTrain      = pd.DataFrame(npTrain)\n",
    "npTrainNeutral  = frameTrain[frameTrain[0] == 'neutral'].loc[:, 1:frameTrain.shape[1]].values\n",
    "npTrainPositive = frameTrain[frameTrain[0] == 'positive'].loc[:, 1:frameTrain.shape[1]].values\n",
    "npTrainNegative = frameTrain[frameTrain[0] == 'negative'].loc[:, 1:frameTrain.shape[1]].values\n",
    "\n",
    "# getting the required numbers for calculations.\n",
    "wordCount = npTrainNeutral.shape[1]\n",
    "testCount = npTest.shape[0]\n",
    "trainNeutralCount  = npTrainNeutral.shape[0]\n",
    "trainPositiveCount = npTrainPositive.shape[0]\n",
    "trainNegativeCount = npTrainNegative.shape[0]"
   ]
  },
  {
   "cell_type": "code",
   "execution_count": 6,
   "metadata": {
    "scrolled": false
   },
   "outputs": [
    {
     "name": "stdout",
     "output_type": "stream",
     "text": [
      "TEST COUNT: 2928\n",
      "WORD COUNT: 5722\n",
      "TRAIN NEUTRAL  COUNT: 2617\n",
      "TRAIN POSITIVE COUNT: 2004\n",
      "TRAIN NEGATIVE COUNT: 7091\n"
     ]
    }
   ],
   "source": [
    "# printing the required numbers.\n",
    "print('TEST COUNT: ' + str(testCount))\n",
    "print('WORD COUNT: ' + str(wordCount))\n",
    "print('TRAIN NEUTRAL  COUNT: ' + str(trainNeutralCount))\n",
    "print('TRAIN POSITIVE COUNT: ' + str(trainPositiveCount))\n",
    "print('TRAIN NEGATIVE COUNT: ' + str(trainNegativeCount))"
   ]
  },
  {
   "cell_type": "code",
   "execution_count": 7,
   "metadata": {
    "scrolled": false
   },
   "outputs": [
    {
     "name": "stdout",
     "output_type": "stream",
     "text": [
      "-------TRAIN NEUTRAL---------\n",
      "[[1 0 0 ... 0 0 0]\n",
      " [1 0 0 ... 0 0 0]\n",
      " [1 0 0 ... 0 0 0]\n",
      " ...\n",
      " [0 0 0 ... 0 0 0]\n",
      " [0 0 0 ... 0 0 0]\n",
      " [0 0 0 ... 0 0 0]]\n",
      "*****************************\n",
      "-------TRAIN POSITIVE--------\n",
      "[[1 1 1 ... 0 0 0]\n",
      " [1 0 0 ... 0 0 0]\n",
      " [1 0 0 ... 0 0 0]\n",
      " ...\n",
      " [0 0 0 ... 0 0 0]\n",
      " [0 0 0 ... 0 0 0]\n",
      " [0 0 0 ... 0 0 0]]\n",
      "*****************************\n",
      "-------TRAIN NEGATIVE--------\n",
      "[[1 0 0 ... 0 0 0]\n",
      " [1 0 0 ... 0 0 0]\n",
      " [1 0 0 ... 0 0 0]\n",
      " ...\n",
      " [0 0 0 ... 0 0 0]\n",
      " [0 0 0 ... 0 0 0]\n",
      " [0 0 0 ... 0 0 0]]\n",
      "*****************************\n"
     ]
    }
   ],
   "source": [
    "# printing the train matrices.\n",
    "print('-------TRAIN NEUTRAL---------')\n",
    "print(npTrainNeutral)\n",
    "print('*****************************')\n",
    "\n",
    "print('-------TRAIN POSITIVE--------')\n",
    "print(npTrainPositive)\n",
    "print('*****************************')\n",
    "\n",
    "print('-------TRAIN NEGATIVE--------')\n",
    "print(npTrainNegative)\n",
    "print('*****************************')"
   ]
  },
  {
   "cell_type": "code",
   "execution_count": 8,
   "metadata": {},
   "outputs": [],
   "source": [
    "# calculating the number of occurrences of word J.\n",
    "npNumOfWordJOccNeutral  = npTrainNeutral.sum(axis=0)  # Tj,neutral\n",
    "npNumOfWordJOccPositive = npTrainPositive.sum(axis=0) # Tj,positive\n",
    "npNumOfWordJOccNegative = npTrainNegative.sum(axis=0) # Tj,negative\n",
    "\n",
    "# the number of tweets in the training set.\n",
    "neutralTweetCount  = npTrainNeutral.shape[0]  # N neutral\n",
    "positiveTweetCount = npTrainPositive.shape[0] # N positive\n",
    "negativeTweetCount = npTrainNegative.shape[0] # N negative\n",
    "tweetCount = neutralTweetCount + positiveTweetCount + negativeTweetCount; # N\n",
    "\n",
    "# estimates the fraction of the tweets with the j-th word of the vocabulary,\n",
    "probOfOccOfWordJNeutral  = npNumOfWordJOccNeutral  / npNumOfWordJOccNeutral.sum()  # P(Xj | Y = neutral)\n",
    "probOfOccOfWordJPositive = npNumOfWordJOccPositive / npNumOfWordJOccPositive.sum() # P(Xj | Y = positive)\n",
    "probOfOccOfWordJNegative = npNumOfWordJOccNegative / npNumOfWordJOccNegative.sum() # P(Xj | Y = negative)\n",
    "\n",
    "# the probability that any particular tweet will be positive, negative or neutral.\n",
    "probOfNeutral  = neutralTweetCount  / tweetCount # P(Y = neutral)\n",
    "probOfPositive = positiveTweetCount / tweetCount # P(Y = positive)\n",
    "probOfNegative = negativeTweetCount / tweetCount # P(Y = negative)\n",
    "\n",
    "# converting the content to float.\n",
    "probOfOccOfWordJNeutral = probOfOccOfWordJNeutral.astype(float)\n",
    "probOfOccOfWordJPositive = probOfOccOfWordJPositive.astype(float)\n",
    "probOfOccOfWordJNegative = probOfOccOfWordJNegative.astype(float)"
   ]
  },
  {
   "cell_type": "code",
   "execution_count": 9,
   "metadata": {},
   "outputs": [
    {
     "name": "stdout",
     "output_type": "stream",
     "text": [
      "--------------------------------------------------------------------------------------------------------------------\n",
      "Number of Word J Occ in Neutral      : [175 1 4 ... 0 0 0]\n",
      "Probability of Neutral               : 0.2234460382513661\n",
      "Number of Neutral Tweets             : 2617\n",
      "Probability of Word J Occ in Neutral : [1.08729419e-02 6.21310966e-05 2.48524386e-04 ... 0.00000000e+00\n",
      " 0.00000000e+00 0.00000000e+00]\n",
      "--------------------------------------------------------------------------------------------------------------------\n",
      "Number of Word J Occ in Positive     : [152 2 32 ... 0 0 0]\n",
      "Probability of Positive              : 0.1711065573770492\n",
      "Number of Positive Tweets            : 2004\n",
      "Probability of Word J Occ in Positive: [0.01247333 0.00016412 0.00262596 ... 0.         0.         0.        ]\n",
      "--------------------------------------------------------------------------------------------------------------------\n",
      "Number of Word J Occ in Negative     : [189 3 136 ... 0 0 0]\n",
      "Probability of Negative              : 0.6054474043715847\n",
      "Number of Negative Tweets            : 7091\n",
      "Probability of Word J Occ in Negative: [3.22740390e-03 5.12286334e-05 2.32236471e-03 ... 0.00000000e+00\n",
      " 0.00000000e+00 0.00000000e+00]\n",
      "--------------------------------------------------------------------------------------------------------------------\n"
     ]
    }
   ],
   "source": [
    "print('--------------------------------------------------------------------------------------------------------------------')\n",
    "print('Number of Word J Occ in Neutral      : ' + str(npNumOfWordJOccNeutral))\n",
    "print('Probability of Neutral               : ' + str(probOfNeutral))\n",
    "print('Number of Neutral Tweets             : ' + str(neutralTweetCount))\n",
    "print('Probability of Word J Occ in Neutral : ' + str(probOfOccOfWordJNeutral))\n",
    "print('--------------------------------------------------------------------------------------------------------------------')\n",
    "print('Number of Word J Occ in Positive     : ' + str(npNumOfWordJOccPositive))\n",
    "print('Probability of Positive              : ' + str(probOfPositive))\n",
    "print('Number of Positive Tweets            : ' + str(positiveTweetCount))\n",
    "print('Probability of Word J Occ in Positive: ' + str(probOfOccOfWordJPositive))\n",
    "print('--------------------------------------------------------------------------------------------------------------------')\n",
    "print('Number of Word J Occ in Negative     : ' + str(npNumOfWordJOccNegative))\n",
    "print('Probability of Negative              : ' + str(probOfNegative))\n",
    "print('Number of Negative Tweets            : ' + str(negativeTweetCount))\n",
    "print('Probability of Word J Occ in Negative: ' + str(probOfOccOfWordJNegative))\n",
    "print('--------------------------------------------------------------------------------------------------------------------')"
   ]
  },
  {
   "cell_type": "code",
   "execution_count": 10,
   "metadata": {},
   "outputs": [
    {
     "name": "stderr",
     "output_type": "stream",
     "text": [
      "C:\\Users\\FatihPC\\Anaconda3\\lib\\site-packages\\ipykernel_launcher.py:17: RuntimeWarning: divide by zero encountered in log\n",
      "C:\\Users\\FatihPC\\Anaconda3\\lib\\site-packages\\ipykernel_launcher.py:20: RuntimeWarning: divide by zero encountered in log\n",
      "C:\\Users\\FatihPC\\Anaconda3\\lib\\site-packages\\ipykernel_launcher.py:23: RuntimeWarning: divide by zero encountered in log\n"
     ]
    }
   ],
   "source": [
    "# calculating the estimates for every test count.\n",
    "npTest = dataFrameTestFeatures.values.astype(float)\n",
    "resultsNeutral  = np.zeros((testCount, 1))\n",
    "resultsPositive = np.zeros((testCount, 1))\n",
    "resultsNegative = np.zeros((testCount, 1))\n",
    "\n",
    "for i in range(testCount):\n",
    "    tempNeutral  = np.zeros((1, wordCount))\n",
    "    tempPositive = np.zeros((1, wordCount))\n",
    "    tempNegative = np.zeros((1, wordCount))\n",
    "    \n",
    "    for j in range(wordCount):\n",
    "        # getting how many times \n",
    "        #the word occurred in tweet.\n",
    "        occOfWordJInTweetI = npTest[i][j]    \n",
    "        if ((probOfOccOfWordJNeutral[j] != 0 or occOfWordJInTweetI != 0)):\n",
    "            tempNeutral[0][j]  = occOfWordJInTweetI * np.log(probOfOccOfWordJNeutral[j])\n",
    "            \n",
    "        if ((probOfOccOfWordJPositive[j] != 0 or occOfWordJInTweetI != 0)):\n",
    "            tempPositive[0][j] = occOfWordJInTweetI * np.log(probOfOccOfWordJPositive[j])\n",
    "            \n",
    "        if ((probOfOccOfWordJNegative[j] != 0 or occOfWordJInTweetI != 0)):\n",
    "            tempNegative[0][j] = occOfWordJInTweetI * np.log(probOfOccOfWordJNegative[j])\n",
    "        \n",
    "    # calculating MLE\n",
    "    resultsNeutral[i][0]  = (np.log(probOfNeutral)  + tempNeutral.sum(axis=1))[0]\n",
    "    resultsPositive[i][0] = (np.log(probOfPositive) + tempPositive.sum(axis=1))[0]\n",
    "    resultsNegative[i][0] = (np.log(probOfNegative) + tempNegative.sum(axis=1))[0]"
   ]
  },
  {
   "cell_type": "code",
   "execution_count": 11,
   "metadata": {},
   "outputs": [
    {
     "name": "stdout",
     "output_type": "stream",
     "text": [
      "-------Neutral-------\n",
      "[[        -inf]\n",
      " [        -inf]\n",
      " [-24.00093776]\n",
      " ...\n",
      " [-27.94955759]\n",
      " [        -inf]\n",
      " [-51.34908695]]\n",
      "---------------------\n",
      "-------Positive------\n",
      "[[        -inf]\n",
      " [        -inf]\n",
      " [-23.95043791]\n",
      " ...\n",
      " [-30.4749826 ]\n",
      " [        -inf]\n",
      " [-56.53544116]]\n",
      "---------------------\n",
      "-------Negative------\n",
      "[[-68.04786297]\n",
      " [-80.36426826]\n",
      " [-25.97062512]\n",
      " ...\n",
      " [-29.51003472]\n",
      " [-56.51673871]\n",
      " [-48.93828622]]\n",
      "---------------------\n"
     ]
    }
   ],
   "source": [
    "# printing the MLE results for each tweet type.\n",
    "print('-------Neutral-------')\n",
    "print(resultsNeutral)\n",
    "print('---------------------')\n",
    "\n",
    "print('-------Positive------')\n",
    "print(resultsPositive)\n",
    "print('---------------------')\n",
    "\n",
    "print('-------Negative------')\n",
    "print(resultsNegative)\n",
    "print('---------------------')"
   ]
  },
  {
   "cell_type": "code",
   "execution_count": 12,
   "metadata": {},
   "outputs": [],
   "source": [
    "# calculating the results for each tweet.\n",
    "results = []\n",
    "for i in range(testCount):\n",
    "    if ((resultsNeutral[i] >= resultsNegative[i]) and (resultsNeutral[i] >= resultsPositive[i])):\n",
    "        results.append('neutral')\n",
    "    elif ((resultsNegative[i] >= resultsNeutral[i]) and (resultsNegative[i] >= resultsPositive[i])):\n",
    "        results.append('negative')\n",
    "    elif ((resultsPositive[i] >= resultsNeutral[i]) and (resultsPositive[i] > resultsNegative[i])):\n",
    "        results.append('positive')\n",
    "        \n",
    "results = np.array(results).reshape(-1,1)"
   ]
  },
  {
   "cell_type": "code",
   "execution_count": 13,
   "metadata": {},
   "outputs": [
    {
     "name": "stdout",
     "output_type": "stream",
     "text": [
      "-------Results------\n",
      "[['negative']\n",
      " ['negative']\n",
      " ['positive']\n",
      " ...\n",
      " ['neutral']\n",
      " ['negative']\n",
      " ['negative']]\n",
      "--------------------\n",
      "-----Test Values----\n",
      "[['negative']\n",
      " ['negative']\n",
      " ['positive']\n",
      " ...\n",
      " ['neutral']\n",
      " ['negative']\n",
      " ['neutral']]\n",
      "--------------------\n"
     ]
    }
   ],
   "source": [
    "print('-------Results------')\n",
    "print(results)\n",
    "print('--------------------')\n",
    "print('-----Test Values----')\n",
    "print(dataFrameTestLabels.values)\n",
    "print('--------------------')"
   ]
  },
  {
   "cell_type": "code",
   "execution_count": 14,
   "metadata": {},
   "outputs": [
    {
     "name": "stdout",
     "output_type": "stream",
     "text": [
      "1839\n",
      "1089\n",
      "ACCURACY: 62.807377049180324\n"
     ]
    }
   ],
   "source": [
    "# calculating Accuracy\n",
    "estimateCount = 0\n",
    "failureCount  = 0\n",
    "\n",
    "for i in range(testCount):\n",
    "    if dataFrameTestLabels.values[i] == results[i]:\n",
    "        estimateCount = estimateCount + 1\n",
    "    else:\n",
    "        failureCount = failureCount + 1\n",
    "\n",
    "print(estimateCount)\n",
    "print(failureCount)\n",
    "accuracy = (estimateCount / (estimateCount + failureCount)) * 100\n",
    "print('ACCURACY: ' + str(accuracy))"
   ]
  },
  {
   "cell_type": "markdown",
   "metadata": {},
   "source": [
    "<h1 align=\"center\">INTERPRETATION OF THE RESULTS</h1>\n",
    "<hr>\n",
    "By using this model, an accurracy of <strong>62.807377049180324%</strong> is achieved and even if we were able to predict some data, the accurracy is still not good. Using this MLE is a bad idea since it hasn't got any <strong>smoothing.</strong> Sometimes we get the probability of occurrence of a word as zero because the word hasn't been observed in the dataset. Hence, we get in some cases due to a.log(0) <strong>-inf</strong> which leads to make wrong predictions. If we would use smoothing, then, we could be able to avoid getting a.log(0)."
   ]
  }
 ],
 "metadata": {
  "kernelspec": {
   "display_name": "Python 3",
   "language": "python",
   "name": "python3"
  },
  "language_info": {
   "codemirror_mode": {
    "name": "ipython",
    "version": 3
   },
   "file_extension": ".py",
   "mimetype": "text/x-python",
   "name": "python",
   "nbconvert_exporter": "python",
   "pygments_lexer": "ipython3",
   "version": "3.7.1"
  }
 },
 "nbformat": 4,
 "nbformat_minor": 2
}
