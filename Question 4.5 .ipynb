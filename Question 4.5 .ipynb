{
 "cells": [
  {
   "cell_type": "markdown",
   "metadata": {},
   "source": [
    "<h1>Bag-of-Words Representation and Multinomial Naive Bayes Model</h1>\n",
    "<hr>\n",
    "<strong>Question 4.5 (Coding) [4 points]:</strong> Extend your classifier so that it can compute an MAP estimate of\n",
    "parameters using a fair Dirichlet prior. This corresponds to additive smoothing."
   ]
  },
  {
   "cell_type": "code",
   "execution_count": 1,
   "metadata": {},
   "outputs": [],
   "source": [
    "# including the required libraries\n",
    "import numpy  as np \n",
    "import pandas as pd\n",
    "import matplotlib.pyplot as plt\n",
    "import os\n",
    "cwd = os.getcwd()"
   ]
  },
  {
   "cell_type": "code",
   "execution_count": 2,
   "metadata": {},
   "outputs": [],
   "source": [
    "# getting the corresponding data sets.\n",
    "dataFrameTestFeatures  = pd.read_csv( os.path.join(cwd, \"data\", \"question-4-test-features.csv\"),  header=None)\n",
    "dataFrameTrainFeatures = pd.read_csv( os.path.join(cwd, \"data\", \"question-4-train-features.csv\"), header=None)\n",
    "dataFrameTrainLabels   = pd.read_csv( os.path.join(cwd, \"data\", \"question-4-train-labels.csv\"),   header=None)\n",
    "dataFrameTestLabels    = pd.read_csv( os.path.join(cwd, \"data\", \"question-4-test-labels.csv\"),    header=None)"
   ]
  },
  {
   "cell_type": "code",
   "execution_count": 3,
   "metadata": {},
   "outputs": [],
   "source": [
    "# stacking the test and train labels\n",
    "npTrain = np.hstack((dataFrameTrainLabels.values, dataFrameTrainFeatures.values))\n",
    "npTest  = np.hstack((dataFrameTestLabels.values,  dataFrameTestFeatures.values))"
   ]
  },
  {
   "cell_type": "code",
   "execution_count": 4,
   "metadata": {},
   "outputs": [
    {
     "name": "stdout",
     "output_type": "stream",
     "text": [
      "*****************************\n",
      "[['neutral' 1 0 ... 0 0 0]\n",
      " ['positive' 1 1 ... 0 0 0]\n",
      " ['neutral' 1 0 ... 0 0 0]\n",
      " ...\n",
      " ['negative' 0 0 ... 0 0 0]\n",
      " ['negative' 0 0 ... 0 0 0]\n",
      " ['positive' 0 0 ... 0 0 0]]\n",
      "*****************************\n",
      "[['negative' 0 0 ... 0 0 0]\n",
      " ['negative' 0 0 ... 0 0 0]\n",
      " ['positive' 0 0 ... 0 0 0]\n",
      " ...\n",
      " ['neutral' 0 0 ... 0 0 0]\n",
      " ['negative' 0 0 ... 0 0 0]\n",
      " ['neutral' 0 0 ... 0 0 0]]\n",
      "*****************************\n",
      "(2928, 5723)\n"
     ]
    }
   ],
   "source": [
    "# printing the stacked matrices\n",
    "print('*****************************')\n",
    "print(npTrain)\n",
    "print('*****************************')\n",
    "print(npTest)\n",
    "print('*****************************')\n",
    "print(npTest.shape)"
   ]
  },
  {
   "cell_type": "code",
   "execution_count": 5,
   "metadata": {},
   "outputs": [],
   "source": [
    "# getting the corresponding data according to the tweet type.\n",
    "frameTrain      = pd.DataFrame(npTrain)\n",
    "npTrainNeutral  = frameTrain[frameTrain[0] == 'neutral'].loc[:, 1:frameTrain.shape[1]].values\n",
    "npTrainPositive = frameTrain[frameTrain[0] == 'positive'].loc[:, 1:frameTrain.shape[1]].values\n",
    "npTrainNegative = frameTrain[frameTrain[0] == 'negative'].loc[:, 1:frameTrain.shape[1]].values\n",
    "\n",
    "# getting the required numbers for calculations.\n",
    "wordCount = npTrainNeutral.shape[1]\n",
    "testCount = npTest.shape[0]\n",
    "trainNeutralCount  = npTrainNeutral.shape[0]\n",
    "trainPositiveCount = npTrainPositive.shape[0]\n",
    "trainNegativeCount = npTrainNegative.shape[0]"
   ]
  },
  {
   "cell_type": "code",
   "execution_count": 6,
   "metadata": {},
   "outputs": [
    {
     "name": "stdout",
     "output_type": "stream",
     "text": [
      "TEST COUNT: 2928\n",
      "WORD COUNT: 5722\n",
      "TRAIN NEUTRAL  COUNT: 2617\n",
      "TRAIN POSITIVE COUNT: 2004\n",
      "TRAIN NEGATIVE COUNT: 7091\n"
     ]
    }
   ],
   "source": [
    "# printing the required numbers.\n",
    "print('TEST COUNT: ' + str(testCount))\n",
    "print('WORD COUNT: ' + str(wordCount))\n",
    "print('TRAIN NEUTRAL  COUNT: ' + str(trainNeutralCount))\n",
    "print('TRAIN POSITIVE COUNT: ' + str(trainPositiveCount))\n",
    "print('TRAIN NEGATIVE COUNT: ' + str(trainNegativeCount))"
   ]
  },
  {
   "cell_type": "code",
   "execution_count": 7,
   "metadata": {},
   "outputs": [
    {
     "name": "stdout",
     "output_type": "stream",
     "text": [
      "-------TRAIN NEUTRAL---------\n",
      "[[1 0 0 ... 0 0 0]\n",
      " [1 0 0 ... 0 0 0]\n",
      " [1 0 0 ... 0 0 0]\n",
      " ...\n",
      " [0 0 0 ... 0 0 0]\n",
      " [0 0 0 ... 0 0 0]\n",
      " [0 0 0 ... 0 0 0]]\n",
      "*****************************\n",
      "-------TRAIN POSITIVE--------\n",
      "[[1 1 1 ... 0 0 0]\n",
      " [1 0 0 ... 0 0 0]\n",
      " [1 0 0 ... 0 0 0]\n",
      " ...\n",
      " [0 0 0 ... 0 0 0]\n",
      " [0 0 0 ... 0 0 0]\n",
      " [0 0 0 ... 0 0 0]]\n",
      "*****************************\n",
      "-------TRAIN NEGATIVE--------\n",
      "[[1 0 0 ... 0 0 0]\n",
      " [1 0 0 ... 0 0 0]\n",
      " [1 0 0 ... 0 0 0]\n",
      " ...\n",
      " [0 0 0 ... 0 0 0]\n",
      " [0 0 0 ... 0 0 0]\n",
      " [0 0 0 ... 0 0 0]]\n",
      "*****************************\n"
     ]
    }
   ],
   "source": [
    "# printing the train matrices.\n",
    "print('-------TRAIN NEUTRAL---------')\n",
    "print(npTrainNeutral)\n",
    "print('*****************************')\n",
    "\n",
    "print('-------TRAIN POSITIVE--------')\n",
    "print(npTrainPositive)\n",
    "print('*****************************')\n",
    "\n",
    "print('-------TRAIN NEGATIVE--------')\n",
    "print(npTrainNegative)\n",
    "print('*****************************')"
   ]
  },
  {
   "cell_type": "code",
   "execution_count": 8,
   "metadata": {},
   "outputs": [],
   "source": [
    "# calculating the number of occurrences of word J.\n",
    "npNumOfWordJOccNeutral  = npTrainNeutral.sum(axis=0)  # Tj,neutral\n",
    "npNumOfWordJOccPositive = npTrainPositive.sum(axis=0) # Tj,positive\n",
    "npNumOfWordJOccNegative = npTrainNegative.sum(axis=0) # Tj,negative\n",
    "\n",
    "# the number of tweets in the training set.\n",
    "neutralTweetCount  = npTrainNeutral.shape[0]  # N neutral\n",
    "positiveTweetCount = npTrainPositive.shape[0] # N positive\n",
    "negativeTweetCount = npTrainNegative.shape[0] # N negative\n",
    "tweetCount = neutralTweetCount + positiveTweetCount + negativeTweetCount; # N\n",
    "\n",
    "# estimates the fraction of the tweets with the j-th word of the vocabulary,\n",
    "probOfOccOfWordJNeutral  = (npNumOfWordJOccNeutral  + 1) / (npNumOfWordJOccNeutral.sum()  + wordCount) # P(Xj | Y = neutral)\n",
    "probOfOccOfWordJPositive = (npNumOfWordJOccPositive + 1) / (npNumOfWordJOccPositive.sum() + wordCount) # P(Xj | Y = positive)\n",
    "probOfOccOfWordJNegative = (npNumOfWordJOccNegative + 1) / (npNumOfWordJOccNegative.sum() + wordCount) # P(Xj | Y = negative)\n",
    "\n",
    "# the probability that any particular tweet will be positive, negative or neutral.\n",
    "probOfNeutral  = neutralTweetCount  / tweetCount # P(Y = neutral)\n",
    "probOfPositive = positiveTweetCount / tweetCount # P(Y = positive)\n",
    "probOfNegative = negativeTweetCount / tweetCount # P(Y = negative)\n",
    "\n",
    "# converting the content to float.\n",
    "probOfOccOfWordJNeutral = probOfOccOfWordJNeutral.astype(float)\n",
    "probOfOccOfWordJPositive = probOfOccOfWordJPositive.astype(float)\n",
    "probOfOccOfWordJNegative = probOfOccOfWordJNegative.astype(float)"
   ]
  },
  {
   "cell_type": "code",
   "execution_count": 9,
   "metadata": {},
   "outputs": [
    {
     "name": "stdout",
     "output_type": "stream",
     "text": [
      "--------------------------------------------------------------------------------------------------------------------\n",
      "Number of Word J Occ in Neutral      : [175 1 4 ... 0 0 0]\n",
      "Probability of Neutral               : 0.2234460382513661\n",
      "Number of Neutral Tweets             : 2617\n",
      "Probability of Word J Occ in Neutral : [8.06710363e-03 9.16716322e-05 2.29179081e-04 ... 4.58358161e-05\n",
      " 4.58358161e-05 4.58358161e-05]\n",
      "--------------------------------------------------------------------------------------------------------------------\n",
      "Number of Word J Occ in Positive     : [152 2 32 ... 0 0 0]\n",
      "Probability of Positive              : 0.1711065573770492\n",
      "Number of Positive Tweets            : 2004\n",
      "Probability of Word J Occ in Positive: [8.54366763e-03 1.67522895e-04 1.84275184e-03 ... 5.58409649e-05\n",
      " 5.58409649e-05 5.58409649e-05]\n",
      "--------------------------------------------------------------------------------------------------------------------\n",
      "Number of Word J Occ in Negative     : [189 3 136 ... 0 0 0]\n",
      "Probability of Negative              : 0.6054474043715847\n",
      "Number of Negative Tweets            : 7091\n",
      "Probability of Word J Occ in Negative: [2.95568035e-03 6.22248495e-05 2.13120110e-03 ... 1.55562124e-05\n",
      " 1.55562124e-05 1.55562124e-05]\n",
      "--------------------------------------------------------------------------------------------------------------------\n"
     ]
    }
   ],
   "source": [
    "print('--------------------------------------------------------------------------------------------------------------------')\n",
    "print('Number of Word J Occ in Neutral      : ' + str(npNumOfWordJOccNeutral))\n",
    "print('Probability of Neutral               : ' + str(probOfNeutral))\n",
    "print('Number of Neutral Tweets             : ' + str(neutralTweetCount))\n",
    "print('Probability of Word J Occ in Neutral : ' + str(probOfOccOfWordJNeutral))\n",
    "print('--------------------------------------------------------------------------------------------------------------------')\n",
    "print('Number of Word J Occ in Positive     : ' + str(npNumOfWordJOccPositive))\n",
    "print('Probability of Positive              : ' + str(probOfPositive))\n",
    "print('Number of Positive Tweets            : ' + str(positiveTweetCount))\n",
    "print('Probability of Word J Occ in Positive: ' + str(probOfOccOfWordJPositive))\n",
    "print('--------------------------------------------------------------------------------------------------------------------')\n",
    "print('Number of Word J Occ in Negative     : ' + str(npNumOfWordJOccNegative))\n",
    "print('Probability of Negative              : ' + str(probOfNegative))\n",
    "print('Number of Negative Tweets            : ' + str(negativeTweetCount))\n",
    "print('Probability of Word J Occ in Negative: ' + str(probOfOccOfWordJNegative))\n",
    "print('--------------------------------------------------------------------------------------------------------------------')"
   ]
  },
  {
   "cell_type": "code",
   "execution_count": 10,
   "metadata": {},
   "outputs": [],
   "source": [
    "# calculating the estimates for every test count.\n",
    "npTest = dataFrameTestFeatures.values.astype(float)\n",
    "resultsNeutral  = np.zeros((testCount, 1))\n",
    "resultsPositive = np.zeros((testCount, 1))\n",
    "resultsNegative = np.zeros((testCount, 1))\n",
    "\n",
    "for i in range(testCount):\n",
    "    tempNeutral  = np.zeros((1, wordCount))\n",
    "    tempPositive = np.zeros((1, wordCount))\n",
    "    tempNegative = np.zeros((1, wordCount))\n",
    "    \n",
    "    for j in range(wordCount):\n",
    "        # getting how many times \n",
    "        #the word occurred in tweet.\n",
    "        occOfWordJInTweetI = npTest[i][j]    \n",
    "        if ((probOfOccOfWordJNeutral[j] != 0 or occOfWordJInTweetI != 0)):\n",
    "            tempNeutral[0][j]  = occOfWordJInTweetI * np.log(probOfOccOfWordJNeutral[j])\n",
    "            \n",
    "        if ((probOfOccOfWordJPositive[j] != 0 or occOfWordJInTweetI != 0)):\n",
    "            tempPositive[0][j] = occOfWordJInTweetI * np.log(probOfOccOfWordJPositive[j])\n",
    "            \n",
    "        if ((probOfOccOfWordJNegative[j] != 0 or occOfWordJInTweetI != 0)):\n",
    "            tempNegative[0][j] = occOfWordJInTweetI * np.log(probOfOccOfWordJNegative[j])\n",
    "        \n",
    "    # calculating MLE\n",
    "    resultsNeutral[i][0]  = (np.log(probOfNeutral)  + tempNeutral.sum(axis=1))[0]\n",
    "    resultsPositive[i][0] = (np.log(probOfPositive) + tempPositive.sum(axis=1))[0]\n",
    "    resultsNegative[i][0] = (np.log(probOfNegative) + tempNegative.sum(axis=1))[0]"
   ]
  },
  {
   "cell_type": "code",
   "execution_count": 11,
   "metadata": {},
   "outputs": [
    {
     "name": "stdout",
     "output_type": "stream",
     "text": [
      "-------Neutral-------\n",
      "[[-77.32434937]\n",
      " [-86.01422333]\n",
      " [-25.11251507]\n",
      " ...\n",
      " [-28.97438985]\n",
      " [-62.08238288]\n",
      " [-53.13756197]]\n",
      "---------------------\n",
      "-------Positive------\n",
      "[[-71.49682708]\n",
      " [-89.72128942]\n",
      " [-25.31050152]\n",
      " ...\n",
      " [-31.53684995]\n",
      " [-65.82798516]\n",
      " [-57.62132515]]\n",
      "---------------------\n",
      "-------Negative------\n",
      "[[-68.25541905]\n",
      " [-80.1110864 ]\n",
      " [-26.26012836]\n",
      " ...\n",
      " [-29.74415034]\n",
      " [-56.72641379]\n",
      " [-49.51032312]]\n",
      "---------------------\n"
     ]
    }
   ],
   "source": [
    "# printing the MLE results for each tweet type.\n",
    "print('-------Neutral-------')\n",
    "print(resultsNeutral)\n",
    "print('---------------------')\n",
    "\n",
    "print('-------Positive------')\n",
    "print(resultsPositive)\n",
    "print('---------------------')\n",
    "\n",
    "print('-------Negative------')\n",
    "print(resultsNegative)\n",
    "print('---------------------')"
   ]
  },
  {
   "cell_type": "code",
   "execution_count": 12,
   "metadata": {},
   "outputs": [],
   "source": [
    "# calculating the results for each tweet.\n",
    "results = []\n",
    "for i in range(testCount):\n",
    "    if ((resultsNeutral[i] >= resultsNegative[i]) and (resultsNeutral[i] >= resultsPositive[i])):\n",
    "        results.append('neutral')\n",
    "    elif ((resultsNegative[i] >= resultsNeutral[i]) and (resultsNegative[i] >= resultsPositive[i])):\n",
    "        results.append('negative')\n",
    "    elif ((resultsPositive[i] >= resultsNeutral[i]) and (resultsPositive[i] > resultsNegative[i])):\n",
    "        results.append('positive')\n",
    "        \n",
    "results = np.array(results).reshape(-1,1)"
   ]
  },
  {
   "cell_type": "code",
   "execution_count": 13,
   "metadata": {},
   "outputs": [
    {
     "name": "stdout",
     "output_type": "stream",
     "text": [
      "-------Results------\n",
      "[['negative']\n",
      " ['negative']\n",
      " ['neutral']\n",
      " ...\n",
      " ['neutral']\n",
      " ['negative']\n",
      " ['negative']]\n",
      "--------------------\n",
      "-----Test Values----\n",
      "[['negative']\n",
      " ['negative']\n",
      " ['positive']\n",
      " ...\n",
      " ['neutral']\n",
      " ['negative']\n",
      " ['neutral']]\n",
      "--------------------\n"
     ]
    }
   ],
   "source": [
    "print('-------Results------')\n",
    "print(results)\n",
    "print('--------------------')\n",
    "print('-----Test Values----')\n",
    "print(dataFrameTestLabels.values)\n",
    "print('--------------------')"
   ]
  },
  {
   "cell_type": "code",
   "execution_count": 14,
   "metadata": {},
   "outputs": [
    {
     "name": "stdout",
     "output_type": "stream",
     "text": [
      "2205\n",
      "723\n",
      "ACCURACY: 75.30737704918032\n"
     ]
    }
   ],
   "source": [
    "# calculating Accuracy\n",
    "estimateCount = 0\n",
    "failureCount  = 0\n",
    "\n",
    "for i in range(testCount):\n",
    "    if dataFrameTestLabels.values[i] == results[i]:\n",
    "        estimateCount = estimateCount + 1\n",
    "    else:\n",
    "        failureCount = failureCount + 1\n",
    "\n",
    "print(estimateCount)\n",
    "print(failureCount)\n",
    "accuracy = (estimateCount / (estimateCount + failureCount)) * 100\n",
    "print('ACCURACY: ' + str(accuracy))"
   ]
  },
  {
   "cell_type": "markdown",
   "metadata": {},
   "source": [
    "<h1 align=\"center\">INTERPRETATION OF THE RESULTS</h1>\n",
    "<hr>\n",
    "By using this model, an accurracy of <strong>75.30737704918032%</strong> is achieved.Since this model uses smoothing in MLE, it was able to predict the data better than the model that didn't used any smoothing which resulted in <strong>62.807377049180324%</strong> accurracy. That is to say, by just using smoothing, we were able to get 13 percent more accurracy and the current model is more reliable than the previous one."
   ]
  }
 ],
 "metadata": {
  "kernelspec": {
   "display_name": "Python 3",
   "language": "python",
   "name": "python3"
  },
  "language_info": {
   "codemirror_mode": {
    "name": "ipython",
    "version": 3
   },
   "file_extension": ".py",
   "mimetype": "text/x-python",
   "name": "python",
   "nbconvert_exporter": "python",
   "pygments_lexer": "ipython3",
   "version": "3.7.1"
  }
 },
 "nbformat": 4,
 "nbformat_minor": 2
}
